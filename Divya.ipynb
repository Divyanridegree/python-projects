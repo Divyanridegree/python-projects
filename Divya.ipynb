{
 "cells": [
  {
   "cell_type": "code",
   "execution_count": 4,
   "id": "fd09b7bc-ab3d-4333-8cc4-ac3d9a248d05",
   "metadata": {},
   "outputs": [
    {
     "name": "stdin",
     "output_type": "stream",
     "text": [
      "guess a number between 1 to 10 6\n"
     ]
    },
    {
     "name": "stdout",
     "output_type": "stream",
     "text": [
      "congaratulations you win !!!\n"
     ]
    }
   ],
   "source": [
    "import random\n",
    "random_no=random.randint(1,10)\n",
    "guessing_no=int(input(\"guess a number between 1 to 10\"))\n",
    "game_over=False\n",
    "while not game_over:\n",
    "    if guessing_no==random_no:\n",
    "        print(\"congaratulations you win !!!\")\n",
    "        game_over=True\n",
    "    else:\n",
    "        if guessing_no > random_no:\n",
    "            print(\"too high\")\n",
    "        else:\n",
    "            print(\"too low\")\n",
    "            guessing_no=int(input(\"guess again\"))"
   ]
  },
  {
   "cell_type": "code",
   "execution_count": null,
   "id": "38ddf6f0-2133-4f22-b762-f3f69062c8f8",
   "metadata": {},
   "outputs": [],
   "source": [
    "\""
   ]
  },
  {
   "cell_type": "code",
   "execution_count": null,
   "id": "5d085a7f-3082-4172-a367-4a74f0d0ddca",
   "metadata": {},
   "outputs": [],
   "source": []
  }
 ],
 "metadata": {
  "kernelspec": {
   "display_name": "Python 3 (ipykernel)",
   "language": "python",
   "name": "python3"
  },
  "language_info": {
   "codemirror_mode": {
    "name": "ipython",
    "version": 3
   },
   "file_extension": ".py",
   "mimetype": "text/x-python",
   "name": "python",
   "nbconvert_exporter": "python",
   "pygments_lexer": "ipython3",
   "version": "3.12.5"
  }
 },
 "nbformat": 4,
 "nbformat_minor": 5
}
